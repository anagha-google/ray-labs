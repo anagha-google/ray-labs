{
  "cells": [
    {
      "cell_type": "markdown",
      "source": [
        "# Module 2: Primer on ray.data with BigQuery\n",
        "\n",
        "This module covers reading and writing from BigQuery with ray.data.\n",
        "\n",
        "Docs:\n",
        "\n",
        "https://cloud.google.com/vertex-ai/docs/open-source/ray-on-vertex-ai/bigquery-integration\n"
      ],
      "metadata": {
        "id": "Q82qM5nNO7F8"
      },
      "id": "Q82qM5nNO7F8"
    },
    {
      "cell_type": "code",
      "source": [
        "project_id_output = !gcloud config list --format 'value(core.project)' 2>/dev/null\n",
        "PROJECT_ID = project_id_output[0]\n",
        "\n",
        "project_nbr_output = !gcloud projects describe $PROJECT_ID --format='value(projectNumber)'\n",
        "PROJECT_NBR = project_nbr_output[0]\n",
        "\n",
        "RAY_ADDRESS=f\"vertex_ray://projects/{PROJECT_NBR}/locations/us-central1/persistentResources/ray-kicking-tires-cluster\"\n",
        "\n",
        "print('PROJECT_ID: ', PROJECT_ID)\n",
        "print('PROJECT_NBR: ', PROJECT_NBR)\n",
        "print('RAY_ADDRESS:', RAY_ADDRESS)\n",
        "\n",
        "import ray\n",
        "from ray.runtime_env import RuntimeEnv\n",
        "from ray.air.config import RunConfig\n",
        "from ray.util.joblib import register_ray\n",
        "\n",
        "from google.cloud import aiplatform\n",
        "from google.cloud.aiplatform.preview import vertex_ray\n",
        "from vertex_ray import BigQueryDatasource\n"
      ],
      "metadata": {
        "colab": {
          "base_uri": "https://localhost:8080/"
        },
        "id": "Pqse7TkONJmN",
        "executionInfo": {
          "status": "ok",
          "timestamp": 1709150996801,
          "user_tz": 360,
          "elapsed": 2533,
          "user": {
            "displayName": "",
            "userId": ""
          }
        },
        "outputId": "66520be7-bbce-4470-c0d5-27c48fbdd0e9"
      },
      "id": "Pqse7TkONJmN",
      "execution_count": 36,
      "outputs": [
        {
          "output_type": "stream",
          "name": "stdout",
          "text": [
            "PROJECT_ID:  ray-of-sunshine\n",
            "PROJECT_NBR:  567162267085\n",
            "RAY_ADDRESS: vertex_ray://projects/567162267085/locations/us-central1/persistentResources/ray-kicking-tires-cluster\n"
          ]
        }
      ]
    },
    {
      "cell_type": "code",
      "source": [
        "aiplatform.init()\n",
        "\n",
        "RAY_ADDRESS=f\"vertex_ray://projects/{PROJECT_NBR}/locations/us-central1/persistentResources/ray-kicking-tires-cluster\"\n",
        "\n",
        "runtime_env = {\n",
        "    \"pip\":\n",
        "       [\"google-cloud-aiplatform[ray]\", \"ipywidgets>=8\"\n",
        "        ]\n",
        "  }\n",
        "ray.shutdown()\n",
        "ray.init(address=RAY_ADDRESS, runtime_env=runtime_env)\n",
        "\n"
      ],
      "metadata": {
        "colab": {
          "base_uri": "https://localhost:8080/",
          "height": 165
        },
        "id": "TrqJCcaMG9KT",
        "executionInfo": {
          "status": "ok",
          "timestamp": 1709151001920,
          "user_tz": 360,
          "elapsed": 4068,
          "user": {
            "displayName": "",
            "userId": ""
          }
        },
        "outputId": "4f26d4cd-c7bd-4140-be8a-e7ca2972218b"
      },
      "id": "TrqJCcaMG9KT",
      "execution_count": 37,
      "outputs": [
        {
          "output_type": "stream",
          "name": "stdout",
          "text": [
            "[Ray on Vertex AI]: Cluster State = State.RUNNING\n"
          ]
        },
        {
          "output_type": "execute_result",
          "data": {
            "text/plain": [
              "_VertexRayClientContext(dashboard_url='755d3a0b41a330d0-dot-us-central1.aiplatform-training.googleusercontent.com', python_version='3.10.13', ray_version='2.4.0', ray_commit='4479f66d4db967d3c9dd0af2572061276ba926ba', protocol_version='2022-12-06', _num_clients=3, _context_to_restore=<ray.util.client._ClientContext object at 0x7908cdb44820>)"
            ],
            "text/html": [
              "<div>\n",
              "    <div style=\"margin-left: 50px;display: flex;flex-direction: row;align-items: center\">\n",
              "        <h3 style=\"color: var(--jp-ui-font-color0)\">Ray</h3>\n",
              "        <svg version=\"1.1\" id=\"ray\" width=\"3em\" viewBox=\"0 0 144.5 144.6\" style=\"margin-left: 3em;margin-right: 3em\">\n",
              "            <g id=\"layer-1\">\n",
              "                <path fill=\"#00a2e9\" class=\"st0\" d=\"M97.3,77.2c-3.8-1.1-6.2,0.9-8.3,5.1c-3.5,6.8-9.9,9.9-17.4,9.6S58,88.1,54.8,81.2c-1.4-3-3-4-6.3-4.1\n",
              "                    c-5.6-0.1-9.9,0.1-13.1,6.4c-3.8,7.6-13.6,10.2-21.8,7.6C5.2,88.4-0.4,80.5,0,71.7c0.1-8.4,5.7-15.8,13.8-18.2\n",
              "                    c8.4-2.6,17.5,0.7,22.3,8c1.3,1.9,1.3,5.2,3.6,5.6c3.9,0.6,8,0.2,12,0.2c1.8,0,1.9-1.6,2.4-2.8c3.5-7.8,9.7-11.8,18-11.9\n",
              "                    c8.2-0.1,14.4,3.9,17.8,11.4c1.3,2.8,2.9,3.6,5.7,3.3c1-0.1,2,0.1,3,0c2.8-0.5,6.4,1.7,8.1-2.7s-2.3-5.5-4.1-7.5\n",
              "                    c-5.1-5.7-10.9-10.8-16.1-16.3C84,38,81.9,37.1,78,38.3C66.7,42,56.2,35.7,53,24.1C50.3,14,57.3,2.8,67.7,0.5\n",
              "                    C78.4-2,89,4.7,91.5,15.3c0.1,0.3,0.1,0.5,0.2,0.8c0.7,3.4,0.7,6.9-0.8,9.8c-1.7,3.2-0.8,5,1.5,7.2c6.7,6.5,13.3,13,19.8,19.7\n",
              "                    c1.8,1.8,3,2.1,5.5,1.2c9.1-3.4,17.9-0.6,23.4,7c4.8,6.9,4.6,16.1-0.4,22.9c-5.4,7.2-14.2,9.9-23.1,6.5c-2.3-0.9-3.5-0.6-5.1,1.1\n",
              "                    c-6.7,6.9-13.6,13.7-20.5,20.4c-1.8,1.8-2.5,3.2-1.4,5.9c3.5,8.7,0.3,18.6-7.7,23.6c-7.9,5-18.2,3.8-24.8-2.9\n",
              "                    c-6.4-6.4-7.4-16.2-2.5-24.3c4.9-7.8,14.5-11,23.1-7.8c3,1.1,4.7,0.5,6.9-1.7C91.7,98.4,98,92.3,104.2,86c1.6-1.6,4.1-2.7,2.6-6.2\n",
              "                    c-1.4-3.3-3.8-2.5-6.2-2.6C99.8,77.2,98.9,77.2,97.3,77.2z M72.1,29.7c5.5,0.1,9.9-4.3,10-9.8c0-0.1,0-0.2,0-0.3\n",
              "                    C81.8,14,77,9.8,71.5,10.2c-5,0.3-9,4.2-9.3,9.2c-0.2,5.5,4,10.1,9.5,10.3C71.8,29.7,72,29.7,72.1,29.7z M72.3,62.3\n",
              "                    c-5.4-0.1-9.9,4.2-10.1,9.7c0,0.2,0,0.3,0,0.5c0.2,5.4,4.5,9.7,9.9,10c5.1,0.1,9.9-4.7,10.1-9.8c0.2-5.5-4-10-9.5-10.3\n",
              "                    C72.6,62.3,72.4,62.3,72.3,62.3z M115,72.5c0.1,5.4,4.5,9.7,9.8,9.9c5.6-0.2,10-4.8,10-10.4c-0.2-5.4-4.6-9.7-10-9.7\n",
              "                    c-5.3-0.1-9.8,4.2-9.9,9.5C115,72.1,115,72.3,115,72.5z M19.5,62.3c-5.4,0.1-9.8,4.4-10,9.8c-0.1,5.1,5.2,10.4,10.2,10.3\n",
              "                    c5.6-0.2,10-4.9,9.8-10.5c-0.1-5.4-4.5-9.7-9.9-9.6C19.6,62.3,19.5,62.3,19.5,62.3z M71.8,134.6c5.9,0.2,10.3-3.9,10.4-9.6\n",
              "                    c0.5-5.5-3.6-10.4-9.1-10.8c-5.5-0.5-10.4,3.6-10.8,9.1c0,0.5,0,0.9,0,1.4c-0.2,5.3,4,9.8,9.3,10\n",
              "                    C71.6,134.6,71.7,134.6,71.8,134.6z\"/>\n",
              "            </g>\n",
              "        </svg>\n",
              "        <table>\n",
              "            <tr>\n",
              "                <td style=\"text-align: left\"><b>Python version:</b></td>\n",
              "                <td style=\"text-align: left\"><b>3.10.13</b></td>\n",
              "            </tr>\n",
              "            <tr>\n",
              "                <td style=\"text-align: left\"><b>Ray version:</b></td>\n",
              "                <td style=\"text-align: left\"><b> 2.4.0</b></td>\n",
              "            </tr>\n",
              "            <tr>\n",
              "                <td style=\"text-align: left\"><b>Vertex SDK version:</b></td>\n",
              "                <td style=\"text-align: left\"><b> 1.39.0</b></td>\n",
              "            </tr>\n",
              "            <tr>\n",
              "                <td style=\"text-align: left\"><b>Dashboard:</b></td>\n",
              "                <td style=\"text-align: left\"><b><a href=\"https://755d3a0b41a330d0-dot-us-central1.aiplatform-training.googleusercontent.com\" target=\"_blank\">755d3a0b41a330d0-dot-us-central1.aiplatform-training.googleusercontent.com</a></b></td>\n",
              "            </tr>\n",
              "            <tr>\n",
              "    <td style=\"text-align: left\"><b>Interactive Terminal Uri:</b></td>\n",
              "    <td style=\"text-align: left\"><b><a href=\"https://87d1c5fdddbfd3fe-dot-us-central1.aiplatform-training.googleusercontent.com\" target=\"_blank\">87d1c5fdddbfd3fe-dot-us-central1.aiplatform-training.googleusercontent.com</a></b></td>\n",
              "</tr>\n",
              "            <tr>\n",
              "                <td style=\"text-align: left\"><b>Cluster Name:</b></td>\n",
              "                <td style=\"text-align: left\"><b> ray-kicking-tires-cluster</b></td>\n",
              "            </tr>\n",
              "        </table>\n",
              "    </div>\n",
              "</div>\n"
            ]
          },
          "metadata": {},
          "execution_count": 37
        }
      ]
    },
    {
      "cell_type": "markdown",
      "source": [
        "## 1. Read from BigQuery"
      ],
      "metadata": {
        "id": "Pf1XUDQINBLB"
      },
      "id": "Pf1XUDQINBLB"
    },
    {
      "cell_type": "code",
      "source": [
        "@ray.remote\n",
        "def fntReadBQPrintPenguinSchema():\n",
        "  bq_dataset = \"bigquery-public-data.ml_datasets\"\n",
        "  bq_read_parallelism = 4\n",
        "  bq_query = f\"SELECT * from {bq_dataset}.penguins LIMIT 10\"\n",
        "\n",
        "  penguin_ds = ray.data.read_datasource(\n",
        "      BigQueryDatasource(),\n",
        "      parallelism=bq_read_parallelism,\n",
        "      query=bq_query\n",
        "  )\n",
        "  return penguin_ds.schema()\n",
        "\n",
        "ray.get(fntReadBQPrintPenguinSchema.remote())"
      ],
      "metadata": {
        "id": "FbosAyKFMi-L",
        "executionInfo": {
          "status": "ok",
          "timestamp": 1709141806990,
          "user_tz": 360,
          "elapsed": 1615,
          "user": {
            "displayName": "",
            "userId": ""
          }
        },
        "colab": {
          "base_uri": "https://localhost:8080/"
        },
        "outputId": "7b9a19dd-b0d6-4a75-e685-b8c057b0e2c8"
      },
      "id": "FbosAyKFMi-L",
      "execution_count": null,
      "outputs": [
        {
          "output_type": "stream",
          "name": "stderr",
          "text": [
            "\u001b[2m\u001b[36m(fntReadBQPrintPenguinSchema pid=14411, ip=10.126.0.4)\u001b[0m 2024-02-28 17:36:46,669\tWARNING read_api.py:358 -- ⚠️  The number of blocks in this dataset (1) limits its parallelism to 1 concurrent tasks. This is much less than the number of available CPU slots in the cluster. Use `.repartition(n)` to increase the number of dataset blocks.\n"
          ]
        },
        {
          "output_type": "stream",
          "name": "stdout",
          "text": [
            "\u001b[2m\u001b[36m(_get_read_tasks pid=14681, ip=10.126.0.4)\u001b[0m [Ray on Vertex AI]: Created streams: 1\n",
            "\u001b[2m\u001b[36m(_get_read_tasks pid=14681, ip=10.126.0.4)\u001b[0m [Ray on Vertex AI]: The number of streams created by the BigQuery Storage Read API is less than the requested parallelism due to the size of the dataset.\n"
          ]
        },
        {
          "output_type": "execute_result",
          "data": {
            "text/plain": [
              "species: string\n",
              "island: string\n",
              "culmen_length_mm: double\n",
              "culmen_depth_mm: double\n",
              "flipper_length_mm: double\n",
              "body_mass_g: double\n",
              "sex: string"
            ]
          },
          "metadata": {},
          "execution_count": 27
        }
      ]
    },
    {
      "cell_type": "code",
      "source": [
        "@ray.remote\n",
        "def fntReadBQPrintPenguin():\n",
        "  bq_dataset = \"bigquery-public-data.ml_datasets\"\n",
        "  bq_read_parallelism = 4\n",
        "  bq_query = f\"SELECT * from {bq_dataset}.penguins LIMIT 10\"\n",
        "\n",
        "  penguin_ds = ray.data.read_datasource(\n",
        "      BigQueryDatasource(),\n",
        "      parallelism=bq_read_parallelism,\n",
        "      query=bq_query\n",
        "  )\n",
        "  return penguin_ds.take(4)\n",
        "\n",
        "  ray.get(fntReadBQPrintPenguin.remote())"
      ],
      "metadata": {
        "id": "Lb1JspRoPvK7"
      },
      "id": "Lb1JspRoPvK7",
      "execution_count": null,
      "outputs": []
    },
    {
      "cell_type": "markdown",
      "source": [
        "## 2. Write to BigQuery\n",
        "\n",
        "Lets read the public dataset and make a copy in our BQ dataset"
      ],
      "metadata": {
        "id": "jTTw5chrNb0t"
      },
      "id": "jTTw5chrNb0t"
    },
    {
      "cell_type": "code",
      "source": [
        "@ray.remote\n",
        "def fntCreateClonePenguins():\n",
        "  bq_dataset = \"bigquery-public-data.ml_datasets\"\n",
        "  bq_read_parallelism = 4\n",
        "  bq_query = f\"SELECT * from {bq_dataset}.penguins LIMIT 10\"\n",
        "\n",
        "  penguin_ds = ray.data.read_datasource(\n",
        "      BigQueryDatasource(),\n",
        "      parallelism=bq_read_parallelism,\n",
        "      query=bq_query\n",
        "  ).write_datasource(\n",
        "      BigQueryDatasource(),\n",
        "      dataset=\"ray_lab_ds.penguin_copy\"\n",
        "  )\n",
        "  return \"Completed\"\n",
        "\n",
        "ray.get(fntCreateClonePenguins.remote())"
      ],
      "metadata": {
        "id": "byQJsjPsMqv9",
        "executionInfo": {
          "status": "ok",
          "timestamp": 1709152352271,
          "user_tz": 360,
          "elapsed": 13210,
          "user": {
            "displayName": "",
            "userId": ""
          }
        },
        "colab": {
          "base_uri": "https://localhost:8080/",
          "height": 194
        },
        "outputId": "34cb0200-1719-480c-ecc7-4bd3cbc441c6"
      },
      "id": "byQJsjPsMqv9",
      "execution_count": 49,
      "outputs": [
        {
          "output_type": "stream",
          "name": "stderr",
          "text": [
            "\u001b[2m\u001b[36m(fntCreateClonePenguins pid=16598, ip=10.126.0.4)\u001b[0m 2024-02-28 20:32:20,504\tWARNING read_api.py:358 -- ⚠️  The number of blocks in this dataset (1) limits its parallelism to 1 concurrent tasks. This is much less than the number of available CPU slots in the cluster. Use `.repartition(n)` to increase the number of dataset blocks.\n",
            "\u001b[2m\u001b[36m(fntCreateClonePenguins pid=16598, ip=10.126.0.4)\u001b[0m 2024-02-28 20:32:20,507\tWARNING dataset.py:2920 -- The Datasource.do_write() is deprecated in Ray 2.4 and will be removed in future release. Use Datasource.write() instead.\n"
          ]
        },
        {
          "output_type": "stream",
          "name": "stdout",
          "text": [
            "\u001b[2m\u001b[36m(_get_read_tasks pid=16641, ip=10.126.0.4)\u001b[0m [Ray on Vertex AI]: Created streams: 1\n",
            "\u001b[2m\u001b[36m(_get_read_tasks pid=16641, ip=10.126.0.4)\u001b[0m [Ray on Vertex AI]: The number of streams created by the BigQuery Storage Read API is less than the requested parallelism due to the size of the dataset.\n",
            "\u001b[2m\u001b[36m(_do_write pid=16641, ip=10.126.0.4)\u001b[0m [Ray on Vertex AI]: Dataset ray_lab_ds already exists. The table will be overwritten if it already exists.\n",
            "\u001b[2m\u001b[36m(_do_write pid=16641, ip=10.126.0.4)\u001b[0m [Ray on Vertex AI]: Writing 1 blocks\n",
            "\u001b[2m\u001b[36m(_write_single_block pid=16729, ip=10.126.0.4)\u001b[0m [Ray on Vertex AI]: Starting to write 10 rows\n"
          ]
        },
        {
          "output_type": "execute_result",
          "data": {
            "text/plain": [
              "'Completed'"
            ],
            "application/vnd.google.colaboratory.intrinsic+json": {
              "type": "string"
            }
          },
          "metadata": {},
          "execution_count": 49
        },
        {
          "output_type": "stream",
          "name": "stdout",
          "text": [
            "\u001b[2m\u001b[36m(_write_single_block pid=16729, ip=10.126.0.4)\u001b[0m [Ray on Vertex AI]: Finished writing 10 rows\n"
          ]
        }
      ]
    }
  ],
  "metadata": {
    "kernelspec": {
      "display_name": "Python 3",
      "language": "python",
      "name": "python3"
    },
    "language_info": {
      "codemirror_mode": {
        "name": "ipython",
        "version": 3
      },
      "file_extension": ".py",
      "mimetype": "text/x-python",
      "name": "python",
      "nbconvert_exporter": "python",
      "pygments_lexer": "ipython3",
      "version": "3.10.10"
    },
    "colab": {
      "provenance": [],
      "collapsed_sections": [
        "Pf1XUDQINBLB"
      ]
    }
  },
  "nbformat": 4,
  "nbformat_minor": 5
}