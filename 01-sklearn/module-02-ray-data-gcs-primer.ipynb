{
  "cells": [
    {
      "cell_type": "markdown",
      "source": [
        "# Module 2: Primer on ray.data with Google Cloud Storage\n",
        "\n",
        "This module covers reading, transforming and writing from Google Cloud Storage with ray.data."
      ],
      "metadata": {
        "id": "Q82qM5nNO7F8"
      },
      "id": "Q82qM5nNO7F8"
    },
    {
      "cell_type": "markdown",
      "source": [
        "## Imports and initialization"
      ],
      "metadata": {
        "id": "QMRBTnLJaghk"
      },
      "id": "QMRBTnLJaghk"
    },
    {
      "cell_type": "markdown",
      "source": [
        "Uncomment the next cell with pip install, and then run it"
      ],
      "metadata": {
        "id": "IYyE5qOPZX_P"
      },
      "id": "IYyE5qOPZX_P"
    },
    {
      "cell_type": "code",
      "source": [
        "# Install, restart runtime, and comment this line\n",
        "# Note: This was tested with Ray 2.4.0"
      ],
      "metadata": {
        "id": "YYmouyRRhQdE"
      },
      "id": "YYmouyRRhQdE",
      "execution_count": null,
      "outputs": []
    },
    {
      "cell_type": "code",
      "source": [
        "#pip install pyarrow==14.0.0"
      ],
      "metadata": {
        "id": "UTbylNErZz4b"
      },
      "id": "UTbylNErZz4b",
      "execution_count": null,
      "outputs": []
    },
    {
      "cell_type": "markdown",
      "source": [
        "Comment the command above, and restart kernel"
      ],
      "metadata": {
        "id": "E6DWbVjRZ-KS"
      },
      "id": "E6DWbVjRZ-KS"
    },
    {
      "cell_type": "code",
      "source": [
        "project_id_output = !gcloud config list --format 'value(core.project)' 2>/dev/null\n",
        "PROJECT_ID = project_id_output[0]\n",
        "\n",
        "project_nbr_output = !gcloud projects describe $PROJECT_ID --format='value(projectNumber)'\n",
        "PROJECT_NBR = project_nbr_output[0]\n",
        "\n",
        "import ray\n",
        "import pyarrow\n",
        "from google.cloud import aiplatform\n",
        "from google.cloud.aiplatform.preview import vertex_ray\n",
        "\n",
        "IRIS_DATA_CSV_SRC_GCS_FQ_URI=f\"gs://ray_lab_data_bucket_{PROJECT_NBR}/sample-input-data/iris.csv\"\n",
        "IRIS_DATA_PARQUET_TARGET_GCS_FQ_URI=f\"gs://ray_lab_data_bucket_{PROJECT_NBR}/sample-output-data/iris.parquet\"\n",
        "RAY_ADDRESS=f\"vertex_ray://projects/{PROJECT_NBR}/locations/us-central1/persistentResources/ray-kicking-tires\"\n",
        "\n",
        "\n",
        "print('PROJECT_ID: ', PROJECT_ID)\n",
        "print('PROJECT_NBR: ', PROJECT_NBR)\n",
        "print('RAY_ADDRESS:', RAY_ADDRESS)\n",
        "print('IRIS_DATA_CSV_SRC_GCS_FQ_URI:', IRIS_DATA_CSV_SRC_GCS_FQ_URI)\n",
        "print('IRIS_DATA_PARQUET_TARGET_GCS: ', IRIS_DATA_PARQUET_TARGET_GCS_FQ_URI)"
      ],
      "metadata": {
        "colab": {
          "base_uri": "https://localhost:8080/"
        },
        "id": "Pqse7TkONJmN",
        "executionInfo": {
          "status": "ok",
          "timestamp": 1711479780698,
          "user_tz": 300,
          "elapsed": 2312,
          "user": {
            "displayName": "",
            "userId": ""
          }
        },
        "outputId": "4dccf8a2-7a53-4ff1-cc92-ba4d4da76721"
      },
      "id": "Pqse7TkONJmN",
      "execution_count": null,
      "outputs": [
        {
          "output_type": "stream",
          "name": "stdout",
          "text": [
            "PROJECT_ID:  ray-of-sunshine\n",
            "PROJECT_NBR:  567162267085\n",
            "RAY_ADDRESS: vertex_ray://projects/567162267085/locations/us-central1/persistentResources/ray-kicking-tires\n",
            "IRIS_DATA_CSV_SRC_GCS_FQ_URI: gs://ray_lab_data_bucket_567162267085/sample-input-data/iris.csv\n",
            "IRIS_DATA_PARQUET_TARGET_GCS:  gs://ray_lab_data_bucket_567162267085/sample-output-data/iris.parquet\n"
          ]
        }
      ]
    },
    {
      "cell_type": "code",
      "source": [
        "ray.__version__"
      ],
      "metadata": {
        "colab": {
          "base_uri": "https://localhost:8080/",
          "height": 35
        },
        "id": "QdsZgEiYcwgD",
        "executionInfo": {
          "status": "ok",
          "timestamp": 1711479783187,
          "user_tz": 300,
          "elapsed": 144,
          "user": {
            "displayName": "",
            "userId": ""
          }
        },
        "outputId": "31999803-505d-4813-e032-66f140395716"
      },
      "id": "QdsZgEiYcwgD",
      "execution_count": null,
      "outputs": [
        {
          "output_type": "execute_result",
          "data": {
            "text/plain": [
              "'2.4.0'"
            ],
            "application/vnd.google.colaboratory.intrinsic+json": {
              "type": "string"
            }
          },
          "metadata": {},
          "execution_count": 10
        }
      ]
    },
    {
      "cell_type": "code",
      "source": [
        "pyarrow.show_info()"
      ],
      "metadata": {
        "colab": {
          "base_uri": "https://localhost:8080/"
        },
        "id": "OA5V8ZlghiQG",
        "executionInfo": {
          "status": "ok",
          "timestamp": 1711479793699,
          "user_tz": 300,
          "elapsed": 201,
          "user": {
            "displayName": "",
            "userId": ""
          }
        },
        "outputId": "2af3b30a-734e-4836-b0f9-97132188d959"
      },
      "id": "OA5V8ZlghiQG",
      "execution_count": null,
      "outputs": [
        {
          "output_type": "stream",
          "name": "stdout",
          "text": [
            "pyarrow version info\n",
            "--------------------\n",
            "Package kind              : python-wheel-manylinux228\n",
            "Arrow C++ library version : 14.0.0  \n",
            "Arrow C++ compiler        : GNU 12.2.1\n",
            "Arrow C++ compiler flags  :  -fdiagnostics-color=always\n",
            "Arrow C++ git revision    :         \n",
            "Arrow C++ git description :         \n",
            "Arrow C++ build type      : release \n",
            "\n",
            "Platform:\n",
            "  OS / Arch           : Linux x86_64\n",
            "  SIMD Level          : avx2    \n",
            "  Detected SIMD Level : avx2    \n",
            "\n",
            "Memory:\n",
            "  Default backend     : jemalloc\n",
            "  Bytes allocated     : 0 bytes \n",
            "  Max memory          : 128 bytes\n",
            "  Supported Backends  : jemalloc, mimalloc, system\n",
            "\n",
            "Optional modules:\n",
            "  csv                 : Enabled \n",
            "  cuda                : -       \n",
            "  dataset             : Enabled \n",
            "  feather             : Enabled \n",
            "  flight              : Enabled \n",
            "  fs                  : Enabled \n",
            "  gandiva             : -       \n",
            "  json                : Enabled \n",
            "  orc                 : Enabled \n",
            "  parquet             : Enabled \n",
            "\n",
            "Filesystems:\n",
            "  GcsFileSystem       : Enabled \n",
            "  HadoopFileSystem    : Enabled \n",
            "  S3FileSystem        : Enabled \n",
            "\n",
            "Compression Codecs:\n",
            "  brotli              : Enabled \n",
            "  bz2                 : Enabled \n",
            "  gzip                : Enabled \n",
            "  lz4_frame           : Enabled \n",
            "  lz4                 : Enabled \n",
            "  snappy              : Enabled \n",
            "  zstd                : Enabled \n"
          ]
        }
      ]
    },
    {
      "cell_type": "markdown",
      "source": [
        "## 1. Read CSV data in GCS"
      ],
      "metadata": {
        "id": "9yc5QH9JT-Fb"
      },
      "id": "9yc5QH9JT-Fb"
    },
    {
      "cell_type": "code",
      "source": [
        "! gsutil cat $IRIS_DATA_CSV_SRC_GCS_FQ_URI | head -2"
      ],
      "metadata": {
        "colab": {
          "base_uri": "https://localhost:8080/"
        },
        "id": "xlTnBkpUa-Qn",
        "executionInfo": {
          "status": "ok",
          "timestamp": 1711479796001,
          "user_tz": 300,
          "elapsed": 2143,
          "user": {
            "displayName": "",
            "userId": ""
          }
        },
        "outputId": "7fd9f4b9-87e6-4473-9c12-e68dc73b4e82"
      },
      "id": "xlTnBkpUa-Qn",
      "execution_count": null,
      "outputs": [
        {
          "output_type": "stream",
          "name": "stdout",
          "text": [
            "Id,SepalLengthCm,SepalWidthCm,PetalLengthCm,PetalWidthCm,Species\n",
            "1,5.1,3.5,1.4,0.2,Iris-setosa\n"
          ]
        }
      ]
    },
    {
      "cell_type": "code",
      "source": [
        "runtime_env = {\n",
        "    \"pip\":\n",
        "       [\"google-cloud-aiplatform[ray]\", \"pyarrow==14.0.0\"]\n",
        "  }\n",
        "\n",
        "ray.shutdown()\n",
        "ray.init(RAY_ADDRESS, runtime_env=runtime_env)"
      ],
      "metadata": {
        "colab": {
          "base_uri": "https://localhost:8080/",
          "height": 165
        },
        "id": "nZVXT9Ci0Lep",
        "executionInfo": {
          "status": "ok",
          "timestamp": 1711479813251,
          "user_tz": 300,
          "elapsed": 17252,
          "user": {
            "displayName": "",
            "userId": ""
          }
        },
        "outputId": "d003ff42-b5ee-448e-fa3b-5c524c0a1dbe"
      },
      "id": "nZVXT9Ci0Lep",
      "execution_count": null,
      "outputs": [
        {
          "output_type": "stream",
          "name": "stdout",
          "text": [
            "[Ray on Vertex AI]: Cluster State = State.RUNNING\n"
          ]
        },
        {
          "output_type": "execute_result",
          "data": {
            "text/plain": [
              "_VertexRayClientContext(dashboard_url='c1068d42e788a11d-dot-us-central1.aiplatform-training.googleusercontent.com', python_version='3.10.13', ray_version='2.4.0', ray_commit='4479f66d4db967d3c9dd0af2572061276ba926ba', protocol_version='2022-12-06', _num_clients=1, _context_to_restore=<ray.util.client._ClientContext object at 0x7d82b3c10640>)"
            ],
            "text/html": [
              "<div>\n",
              "    <div style=\"margin-left: 50px;display: flex;flex-direction: row;align-items: center\">\n",
              "        <h3 style=\"color: var(--jp-ui-font-color0)\">Ray</h3>\n",
              "        <svg version=\"1.1\" id=\"ray\" width=\"3em\" viewBox=\"0 0 144.5 144.6\" style=\"margin-left: 3em;margin-right: 3em\">\n",
              "            <g id=\"layer-1\">\n",
              "                <path fill=\"#00a2e9\" class=\"st0\" d=\"M97.3,77.2c-3.8-1.1-6.2,0.9-8.3,5.1c-3.5,6.8-9.9,9.9-17.4,9.6S58,88.1,54.8,81.2c-1.4-3-3-4-6.3-4.1\n",
              "                    c-5.6-0.1-9.9,0.1-13.1,6.4c-3.8,7.6-13.6,10.2-21.8,7.6C5.2,88.4-0.4,80.5,0,71.7c0.1-8.4,5.7-15.8,13.8-18.2\n",
              "                    c8.4-2.6,17.5,0.7,22.3,8c1.3,1.9,1.3,5.2,3.6,5.6c3.9,0.6,8,0.2,12,0.2c1.8,0,1.9-1.6,2.4-2.8c3.5-7.8,9.7-11.8,18-11.9\n",
              "                    c8.2-0.1,14.4,3.9,17.8,11.4c1.3,2.8,2.9,3.6,5.7,3.3c1-0.1,2,0.1,3,0c2.8-0.5,6.4,1.7,8.1-2.7s-2.3-5.5-4.1-7.5\n",
              "                    c-5.1-5.7-10.9-10.8-16.1-16.3C84,38,81.9,37.1,78,38.3C66.7,42,56.2,35.7,53,24.1C50.3,14,57.3,2.8,67.7,0.5\n",
              "                    C78.4-2,89,4.7,91.5,15.3c0.1,0.3,0.1,0.5,0.2,0.8c0.7,3.4,0.7,6.9-0.8,9.8c-1.7,3.2-0.8,5,1.5,7.2c6.7,6.5,13.3,13,19.8,19.7\n",
              "                    c1.8,1.8,3,2.1,5.5,1.2c9.1-3.4,17.9-0.6,23.4,7c4.8,6.9,4.6,16.1-0.4,22.9c-5.4,7.2-14.2,9.9-23.1,6.5c-2.3-0.9-3.5-0.6-5.1,1.1\n",
              "                    c-6.7,6.9-13.6,13.7-20.5,20.4c-1.8,1.8-2.5,3.2-1.4,5.9c3.5,8.7,0.3,18.6-7.7,23.6c-7.9,5-18.2,3.8-24.8-2.9\n",
              "                    c-6.4-6.4-7.4-16.2-2.5-24.3c4.9-7.8,14.5-11,23.1-7.8c3,1.1,4.7,0.5,6.9-1.7C91.7,98.4,98,92.3,104.2,86c1.6-1.6,4.1-2.7,2.6-6.2\n",
              "                    c-1.4-3.3-3.8-2.5-6.2-2.6C99.8,77.2,98.9,77.2,97.3,77.2z M72.1,29.7c5.5,0.1,9.9-4.3,10-9.8c0-0.1,0-0.2,0-0.3\n",
              "                    C81.8,14,77,9.8,71.5,10.2c-5,0.3-9,4.2-9.3,9.2c-0.2,5.5,4,10.1,9.5,10.3C71.8,29.7,72,29.7,72.1,29.7z M72.3,62.3\n",
              "                    c-5.4-0.1-9.9,4.2-10.1,9.7c0,0.2,0,0.3,0,0.5c0.2,5.4,4.5,9.7,9.9,10c5.1,0.1,9.9-4.7,10.1-9.8c0.2-5.5-4-10-9.5-10.3\n",
              "                    C72.6,62.3,72.4,62.3,72.3,62.3z M115,72.5c0.1,5.4,4.5,9.7,9.8,9.9c5.6-0.2,10-4.8,10-10.4c-0.2-5.4-4.6-9.7-10-9.7\n",
              "                    c-5.3-0.1-9.8,4.2-9.9,9.5C115,72.1,115,72.3,115,72.5z M19.5,62.3c-5.4,0.1-9.8,4.4-10,9.8c-0.1,5.1,5.2,10.4,10.2,10.3\n",
              "                    c5.6-0.2,10-4.9,9.8-10.5c-0.1-5.4-4.5-9.7-9.9-9.6C19.6,62.3,19.5,62.3,19.5,62.3z M71.8,134.6c5.9,0.2,10.3-3.9,10.4-9.6\n",
              "                    c0.5-5.5-3.6-10.4-9.1-10.8c-5.5-0.5-10.4,3.6-10.8,9.1c0,0.5,0,0.9,0,1.4c-0.2,5.3,4,9.8,9.3,10\n",
              "                    C71.6,134.6,71.7,134.6,71.8,134.6z\"/>\n",
              "            </g>\n",
              "        </svg>\n",
              "        <table>\n",
              "            <tr>\n",
              "                <td style=\"text-align: left\"><b>Python version:</b></td>\n",
              "                <td style=\"text-align: left\"><b>3.10.13</b></td>\n",
              "            </tr>\n",
              "            <tr>\n",
              "                <td style=\"text-align: left\"><b>Ray version:</b></td>\n",
              "                <td style=\"text-align: left\"><b> 2.4.0</b></td>\n",
              "            </tr>\n",
              "            <tr>\n",
              "                <td style=\"text-align: left\"><b>Vertex SDK version:</b></td>\n",
              "                <td style=\"text-align: left\"><b> 1.39.0</b></td>\n",
              "            </tr>\n",
              "            <tr>\n",
              "                <td style=\"text-align: left\"><b>Dashboard:</b></td>\n",
              "                <td style=\"text-align: left\"><b><a href=\"https://c1068d42e788a11d-dot-us-central1.aiplatform-training.googleusercontent.com\" target=\"_blank\">c1068d42e788a11d-dot-us-central1.aiplatform-training.googleusercontent.com</a></b></td>\n",
              "            </tr>\n",
              "            <tr>\n",
              "    <td style=\"text-align: left\"><b>Interactive Terminal Uri:</b></td>\n",
              "    <td style=\"text-align: left\"><b><a href=\"https://e21427b331ff6335-dot-us-central1.aiplatform-training.googleusercontent.com\" target=\"_blank\">e21427b331ff6335-dot-us-central1.aiplatform-training.googleusercontent.com</a></b></td>\n",
              "</tr>\n",
              "            <tr>\n",
              "                <td style=\"text-align: left\"><b>Cluster Name:</b></td>\n",
              "                <td style=\"text-align: left\"><b> ray-kicking-tires</b></td>\n",
              "            </tr>\n",
              "        </table>\n",
              "    </div>\n",
              "</div>\n"
            ]
          },
          "metadata": {},
          "execution_count": 13
        }
      ]
    },
    {
      "cell_type": "markdown",
      "source": [
        "### 1.1. Read CSV, infer schema, print schema"
      ],
      "metadata": {
        "id": "dOMVkoKsTsqa"
      },
      "id": "dOMVkoKsTsqa"
    },
    {
      "cell_type": "code",
      "source": [
        "# Read CSV in GCS & print schema\n",
        "@ray.remote\n",
        "def fntReadCSVDisplaySchema(path):\n",
        "    ds= ray.data.read_csv(paths=path)\n",
        "    return ds.schema()\n",
        "\n",
        "iris_raw_obj_ref = fntReadCSVDisplaySchema.remote(IRIS_DATA_CSV_SRC_GCS_FQ_URI)\n",
        "ray.get(iris_raw_obj_ref)"
      ],
      "metadata": {
        "colab": {
          "base_uri": "https://localhost:8080/"
        },
        "id": "2baupPE5P8bi",
        "executionInfo": {
          "status": "ok",
          "timestamp": 1711479833884,
          "user_tz": 300,
          "elapsed": 20636,
          "user": {
            "displayName": "",
            "userId": ""
          }
        },
        "outputId": "2c8b88fb-263d-474d-e7f2-e16b751a4310"
      },
      "id": "2baupPE5P8bi",
      "execution_count": null,
      "outputs": [
        {
          "output_type": "stream",
          "name": "stderr",
          "text": [
            "\u001b[2m\u001b[36m(fntReadCSVDisplaySchema pid=305, ip=10.126.0.5)\u001b[0m 2024-03-26 19:03:53,468\tWARNING read_api.py:358 -- ⚠️  The number of blocks in this dataset (1) limits its parallelism to 1 concurrent tasks. This is much less than the number of available CPU slots in the cluster. Use `.repartition(n)` to increase the number of dataset blocks.\n"
          ]
        },
        {
          "output_type": "execute_result",
          "data": {
            "text/plain": [
              "Id: int64\n",
              "SepalLengthCm: double\n",
              "SepalWidthCm: double\n",
              "PetalLengthCm: double\n",
              "PetalWidthCm: double\n",
              "Species: string"
            ]
          },
          "metadata": {},
          "execution_count": 14
        }
      ]
    },
    {
      "cell_type": "markdown",
      "source": [
        "### 1.2. Read CSV, and print content"
      ],
      "metadata": {
        "id": "HWCtJ4crT2P0"
      },
      "id": "HWCtJ4crT2P0"
    },
    {
      "cell_type": "code",
      "source": [
        "# Read CSV in GCS & print 3 records\n",
        "@ray.remote\n",
        "def fntReadCSVAndDisplay(path):\n",
        "    ds= ray.data.read_csv(paths=path)\n",
        "    return ds.take(3)\n",
        "\n",
        "\n",
        "# Execute the function\n",
        "ray.get(fntReadCSVAndDisplay.remote(IRIS_DATA_CSV_SRC_GCS_FQ_URI))"
      ],
      "metadata": {
        "id": "nWVFOTLS3Jh4",
        "executionInfo": {
          "status": "ok",
          "timestamp": 1711479837262,
          "user_tz": 300,
          "elapsed": 3381,
          "user": {
            "displayName": "",
            "userId": ""
          }
        },
        "colab": {
          "base_uri": "https://localhost:8080/"
        },
        "outputId": "df7e27d8-6428-48ea-9e2e-b76c7642ca19"
      },
      "id": "nWVFOTLS3Jh4",
      "execution_count": null,
      "outputs": [
        {
          "output_type": "stream",
          "name": "stderr",
          "text": [
            "\u001b[2m\u001b[36m(fntReadCSVAndDisplay pid=305, ip=10.126.0.5)\u001b[0m 2024-03-26 19:03:53,815\tWARNING read_api.py:358 -- ⚠️  The number of blocks in this dataset (1) limits its parallelism to 1 concurrent tasks. This is much less than the number of available CPU slots in the cluster. Use `.repartition(n)` to increase the number of dataset blocks.\n",
            "\u001b[2m\u001b[36m(fntReadCSVAndDisplay pid=305, ip=10.126.0.5)\u001b[0m 2024-03-26 19:03:53,825\tINFO streaming_executor.py:83 -- Executing DAG InputDataBuffer[Input] -> TaskPoolMapOperator[DoRead]\n",
            "\u001b[2m\u001b[36m(fntReadCSVAndDisplay pid=305, ip=10.126.0.5)\u001b[0m 2024-03-26 19:03:53,825\tINFO streaming_executor.py:84 -- Execution config: ExecutionOptions(resource_limits=ExecutionResources(cpu=None, gpu=None, object_store_memory=None), locality_with_output=False, preserve_order=False, actor_locality_enabled=True, verbose_progress=False)\n"
          ]
        },
        {
          "output_type": "execute_result",
          "data": {
            "text/plain": [
              "[{'Id': 1,\n",
              "  'SepalLengthCm': 5.1,\n",
              "  'SepalWidthCm': 3.5,\n",
              "  'PetalLengthCm': 1.4,\n",
              "  'PetalWidthCm': 0.2,\n",
              "  'Species': 'Iris-setosa'},\n",
              " {'Id': 2,\n",
              "  'SepalLengthCm': 4.9,\n",
              "  'SepalWidthCm': 3.0,\n",
              "  'PetalLengthCm': 1.4,\n",
              "  'PetalWidthCm': 0.2,\n",
              "  'Species': 'Iris-setosa'},\n",
              " {'Id': 3,\n",
              "  'SepalLengthCm': 4.7,\n",
              "  'SepalWidthCm': 3.2,\n",
              "  'PetalLengthCm': 1.3,\n",
              "  'PetalWidthCm': 0.2,\n",
              "  'Species': 'Iris-setosa'}]"
            ]
          },
          "metadata": {},
          "execution_count": 15
        }
      ]
    },
    {
      "cell_type": "markdown",
      "source": [
        "## 2. Transform data with Ray"
      ],
      "metadata": {
        "id": "lP5fvzJyyNA0"
      },
      "id": "lP5fvzJyyNA0"
    },
    {
      "cell_type": "code",
      "source": [
        "import numpy as np\n",
        "import ray\n",
        "import pyarrow\n",
        "\n",
        "\n",
        "ray.shutdown()\n",
        "runtime_env = {\n",
        "    \"pip\":\n",
        "       [\"google-cloud-aiplatform[ray]\", \"pyarrow==14.0.0\"]\n",
        "  }\n",
        "\n",
        "ray.init(address=RAY_ADDRESS, runtime_env=runtime_env)"
      ],
      "metadata": {
        "id": "Eg1dFUPyOue5",
        "executionInfo": {
          "status": "ok",
          "timestamp": 1711479840578,
          "user_tz": 300,
          "elapsed": 3318,
          "user": {
            "displayName": "",
            "userId": ""
          }
        },
        "colab": {
          "base_uri": "https://localhost:8080/",
          "height": 165
        },
        "outputId": "cf354d47-c1ec-45b9-c019-80f95e7b36e6"
      },
      "id": "Eg1dFUPyOue5",
      "execution_count": null,
      "outputs": [
        {
          "output_type": "stream",
          "name": "stdout",
          "text": [
            "[Ray on Vertex AI]: Cluster State = State.RUNNING\n"
          ]
        },
        {
          "output_type": "execute_result",
          "data": {
            "text/plain": [
              "_VertexRayClientContext(dashboard_url='c1068d42e788a11d-dot-us-central1.aiplatform-training.googleusercontent.com', python_version='3.10.13', ray_version='2.4.0', ray_commit='4479f66d4db967d3c9dd0af2572061276ba926ba', protocol_version='2022-12-06', _num_clients=1, _context_to_restore=<ray.util.client._ClientContext object at 0x7d82b3c10640>)"
            ],
            "text/html": [
              "<div>\n",
              "    <div style=\"margin-left: 50px;display: flex;flex-direction: row;align-items: center\">\n",
              "        <h3 style=\"color: var(--jp-ui-font-color0)\">Ray</h3>\n",
              "        <svg version=\"1.1\" id=\"ray\" width=\"3em\" viewBox=\"0 0 144.5 144.6\" style=\"margin-left: 3em;margin-right: 3em\">\n",
              "            <g id=\"layer-1\">\n",
              "                <path fill=\"#00a2e9\" class=\"st0\" d=\"M97.3,77.2c-3.8-1.1-6.2,0.9-8.3,5.1c-3.5,6.8-9.9,9.9-17.4,9.6S58,88.1,54.8,81.2c-1.4-3-3-4-6.3-4.1\n",
              "                    c-5.6-0.1-9.9,0.1-13.1,6.4c-3.8,7.6-13.6,10.2-21.8,7.6C5.2,88.4-0.4,80.5,0,71.7c0.1-8.4,5.7-15.8,13.8-18.2\n",
              "                    c8.4-2.6,17.5,0.7,22.3,8c1.3,1.9,1.3,5.2,3.6,5.6c3.9,0.6,8,0.2,12,0.2c1.8,0,1.9-1.6,2.4-2.8c3.5-7.8,9.7-11.8,18-11.9\n",
              "                    c8.2-0.1,14.4,3.9,17.8,11.4c1.3,2.8,2.9,3.6,5.7,3.3c1-0.1,2,0.1,3,0c2.8-0.5,6.4,1.7,8.1-2.7s-2.3-5.5-4.1-7.5\n",
              "                    c-5.1-5.7-10.9-10.8-16.1-16.3C84,38,81.9,37.1,78,38.3C66.7,42,56.2,35.7,53,24.1C50.3,14,57.3,2.8,67.7,0.5\n",
              "                    C78.4-2,89,4.7,91.5,15.3c0.1,0.3,0.1,0.5,0.2,0.8c0.7,3.4,0.7,6.9-0.8,9.8c-1.7,3.2-0.8,5,1.5,7.2c6.7,6.5,13.3,13,19.8,19.7\n",
              "                    c1.8,1.8,3,2.1,5.5,1.2c9.1-3.4,17.9-0.6,23.4,7c4.8,6.9,4.6,16.1-0.4,22.9c-5.4,7.2-14.2,9.9-23.1,6.5c-2.3-0.9-3.5-0.6-5.1,1.1\n",
              "                    c-6.7,6.9-13.6,13.7-20.5,20.4c-1.8,1.8-2.5,3.2-1.4,5.9c3.5,8.7,0.3,18.6-7.7,23.6c-7.9,5-18.2,3.8-24.8-2.9\n",
              "                    c-6.4-6.4-7.4-16.2-2.5-24.3c4.9-7.8,14.5-11,23.1-7.8c3,1.1,4.7,0.5,6.9-1.7C91.7,98.4,98,92.3,104.2,86c1.6-1.6,4.1-2.7,2.6-6.2\n",
              "                    c-1.4-3.3-3.8-2.5-6.2-2.6C99.8,77.2,98.9,77.2,97.3,77.2z M72.1,29.7c5.5,0.1,9.9-4.3,10-9.8c0-0.1,0-0.2,0-0.3\n",
              "                    C81.8,14,77,9.8,71.5,10.2c-5,0.3-9,4.2-9.3,9.2c-0.2,5.5,4,10.1,9.5,10.3C71.8,29.7,72,29.7,72.1,29.7z M72.3,62.3\n",
              "                    c-5.4-0.1-9.9,4.2-10.1,9.7c0,0.2,0,0.3,0,0.5c0.2,5.4,4.5,9.7,9.9,10c5.1,0.1,9.9-4.7,10.1-9.8c0.2-5.5-4-10-9.5-10.3\n",
              "                    C72.6,62.3,72.4,62.3,72.3,62.3z M115,72.5c0.1,5.4,4.5,9.7,9.8,9.9c5.6-0.2,10-4.8,10-10.4c-0.2-5.4-4.6-9.7-10-9.7\n",
              "                    c-5.3-0.1-9.8,4.2-9.9,9.5C115,72.1,115,72.3,115,72.5z M19.5,62.3c-5.4,0.1-9.8,4.4-10,9.8c-0.1,5.1,5.2,10.4,10.2,10.3\n",
              "                    c5.6-0.2,10-4.9,9.8-10.5c-0.1-5.4-4.5-9.7-9.9-9.6C19.6,62.3,19.5,62.3,19.5,62.3z M71.8,134.6c5.9,0.2,10.3-3.9,10.4-9.6\n",
              "                    c0.5-5.5-3.6-10.4-9.1-10.8c-5.5-0.5-10.4,3.6-10.8,9.1c0,0.5,0,0.9,0,1.4c-0.2,5.3,4,9.8,9.3,10\n",
              "                    C71.6,134.6,71.7,134.6,71.8,134.6z\"/>\n",
              "            </g>\n",
              "        </svg>\n",
              "        <table>\n",
              "            <tr>\n",
              "                <td style=\"text-align: left\"><b>Python version:</b></td>\n",
              "                <td style=\"text-align: left\"><b>3.10.13</b></td>\n",
              "            </tr>\n",
              "            <tr>\n",
              "                <td style=\"text-align: left\"><b>Ray version:</b></td>\n",
              "                <td style=\"text-align: left\"><b> 2.4.0</b></td>\n",
              "            </tr>\n",
              "            <tr>\n",
              "                <td style=\"text-align: left\"><b>Vertex SDK version:</b></td>\n",
              "                <td style=\"text-align: left\"><b> 1.39.0</b></td>\n",
              "            </tr>\n",
              "            <tr>\n",
              "                <td style=\"text-align: left\"><b>Dashboard:</b></td>\n",
              "                <td style=\"text-align: left\"><b><a href=\"https://c1068d42e788a11d-dot-us-central1.aiplatform-training.googleusercontent.com\" target=\"_blank\">c1068d42e788a11d-dot-us-central1.aiplatform-training.googleusercontent.com</a></b></td>\n",
              "            </tr>\n",
              "            <tr>\n",
              "    <td style=\"text-align: left\"><b>Interactive Terminal Uri:</b></td>\n",
              "    <td style=\"text-align: left\"><b><a href=\"https://e21427b331ff6335-dot-us-central1.aiplatform-training.googleusercontent.com\" target=\"_blank\">e21427b331ff6335-dot-us-central1.aiplatform-training.googleusercontent.com</a></b></td>\n",
              "</tr>\n",
              "            <tr>\n",
              "                <td style=\"text-align: left\"><b>Cluster Name:</b></td>\n",
              "                <td style=\"text-align: left\"><b> ray-kicking-tires</b></td>\n",
              "            </tr>\n",
              "        </table>\n",
              "    </div>\n",
              "</div>\n"
            ]
          },
          "metadata": {},
          "execution_count": 16
        }
      ]
    },
    {
      "cell_type": "code",
      "source": [
        "# Read CSV in GCS, transform iris - calculate petal area and append the same as a column\n",
        "\n",
        "from typing import Dict\n",
        "import numpy as np\n",
        "\n",
        "# Compute a \"petal area\" attribute.\n",
        "def fnTransformIrisBatch(batch: Dict[str, np.ndarray]) -> Dict[str, np.ndarray]:\n",
        "    vec_a = batch[\"PetalLengthCm\"]\n",
        "    vec_b = batch[\"PetalWidthCm\"]\n",
        "    batch[\"PetalAreaCm\"] = vec_a * vec_b\n",
        "    return batch\n",
        "\n",
        "# Python remote function / task\n",
        "@ray.remote\n",
        "def fntTransformIris(path):\n",
        "    ds= ray.data.read_csv(paths=path)\n",
        "    transformed_ds = ds.map_batches(fnTransformIrisBatch)\n",
        "    return transformed_ds.take(3)\n",
        "\n",
        "\n",
        "# Execute the function\n",
        "ray.get(fntTransformIris.remote(IRIS_DATA_CSV_SRC_GCS_FQ_URI))"
      ],
      "metadata": {
        "id": "msQA-KTnMDzX",
        "executionInfo": {
          "status": "ok",
          "timestamp": 1711479846520,
          "user_tz": 300,
          "elapsed": 5945,
          "user": {
            "displayName": "",
            "userId": ""
          }
        },
        "colab": {
          "base_uri": "https://localhost:8080/"
        },
        "outputId": "26c86a01-0b67-4dc8-afb5-b48894820a7b"
      },
      "id": "msQA-KTnMDzX",
      "execution_count": null,
      "outputs": [
        {
          "output_type": "stream",
          "name": "stderr",
          "text": [
            "\u001b[2m\u001b[36m(fntTransformIris pid=464, ip=10.126.0.5)\u001b[0m 2024-03-26 19:04:06,239\tWARNING read_api.py:358 -- ⚠️  The number of blocks in this dataset (1) limits its parallelism to 1 concurrent tasks. This is much less than the number of available CPU slots in the cluster. Use `.repartition(n)` to increase the number of dataset blocks.\n",
            "\u001b[2m\u001b[36m(fntTransformIris pid=464, ip=10.126.0.5)\u001b[0m 2024-03-26 19:04:06,248\tINFO streaming_executor.py:83 -- Executing DAG InputDataBuffer[Input] -> TaskPoolMapOperator[ReadCSV->MapBatches(fnTransformIrisBatch)]\n",
            "\u001b[2m\u001b[36m(fntTransformIris pid=464, ip=10.126.0.5)\u001b[0m 2024-03-26 19:04:06,249\tINFO streaming_executor.py:84 -- Execution config: ExecutionOptions(resource_limits=ExecutionResources(cpu=None, gpu=None, object_store_memory=None), locality_with_output=False, preserve_order=False, actor_locality_enabled=True, verbose_progress=False)\n"
          ]
        },
        {
          "output_type": "execute_result",
          "data": {
            "text/plain": [
              "[{'Id': 1,\n",
              "  'SepalLengthCm': 5.1,\n",
              "  'SepalWidthCm': 3.5,\n",
              "  'PetalLengthCm': 1.4,\n",
              "  'PetalWidthCm': 0.2,\n",
              "  'Species': 'Iris-setosa',\n",
              "  'PetalAreaCm': 0.27999999999999997},\n",
              " {'Id': 2,\n",
              "  'SepalLengthCm': 4.9,\n",
              "  'SepalWidthCm': 3.0,\n",
              "  'PetalLengthCm': 1.4,\n",
              "  'PetalWidthCm': 0.2,\n",
              "  'Species': 'Iris-setosa',\n",
              "  'PetalAreaCm': 0.27999999999999997},\n",
              " {'Id': 3,\n",
              "  'SepalLengthCm': 4.7,\n",
              "  'SepalWidthCm': 3.2,\n",
              "  'PetalLengthCm': 1.3,\n",
              "  'PetalWidthCm': 0.2,\n",
              "  'Species': 'Iris-setosa',\n",
              "  'PetalAreaCm': 0.26}]"
            ]
          },
          "metadata": {},
          "execution_count": 17
        }
      ]
    },
    {
      "cell_type": "markdown",
      "source": [
        "## 3. Persist data with Ray\n",
        "\n",
        "We will take the same function we created to transform Iris data and persist as Parquet to GCS and then learn to read it."
      ],
      "metadata": {
        "id": "rQN15zLuaYdF"
      },
      "id": "rQN15zLuaYdF"
    },
    {
      "cell_type": "code",
      "source": [
        "import numpy as np\n",
        "import ray\n",
        "import pyarrow\n",
        "\n",
        "\n",
        "ray.shutdown()\n",
        "runtime_env = {\n",
        "    \"pip\":\n",
        "       [\"google-cloud-aiplatform[ray]\", \"pyarrow==14.0.0\"]\n",
        "  }\n",
        "\n",
        "ray.init(address=RAY_ADDRESS, runtime_env=runtime_env)"
      ],
      "metadata": {
        "id": "YVv8tGSHacIe",
        "executionInfo": {
          "status": "ok",
          "timestamp": 1711479850112,
          "user_tz": 300,
          "elapsed": 3595,
          "user": {
            "displayName": "",
            "userId": ""
          }
        },
        "colab": {
          "base_uri": "https://localhost:8080/",
          "height": 165
        },
        "outputId": "0e77300d-c05c-4af9-aecf-a537bf78bc2d"
      },
      "id": "YVv8tGSHacIe",
      "execution_count": null,
      "outputs": [
        {
          "output_type": "stream",
          "name": "stdout",
          "text": [
            "[Ray on Vertex AI]: Cluster State = State.RUNNING\n"
          ]
        },
        {
          "output_type": "execute_result",
          "data": {
            "text/plain": [
              "_VertexRayClientContext(dashboard_url='c1068d42e788a11d-dot-us-central1.aiplatform-training.googleusercontent.com', python_version='3.10.13', ray_version='2.4.0', ray_commit='4479f66d4db967d3c9dd0af2572061276ba926ba', protocol_version='2022-12-06', _num_clients=1, _context_to_restore=<ray.util.client._ClientContext object at 0x7d82b3c10640>)"
            ],
            "text/html": [
              "<div>\n",
              "    <div style=\"margin-left: 50px;display: flex;flex-direction: row;align-items: center\">\n",
              "        <h3 style=\"color: var(--jp-ui-font-color0)\">Ray</h3>\n",
              "        <svg version=\"1.1\" id=\"ray\" width=\"3em\" viewBox=\"0 0 144.5 144.6\" style=\"margin-left: 3em;margin-right: 3em\">\n",
              "            <g id=\"layer-1\">\n",
              "                <path fill=\"#00a2e9\" class=\"st0\" d=\"M97.3,77.2c-3.8-1.1-6.2,0.9-8.3,5.1c-3.5,6.8-9.9,9.9-17.4,9.6S58,88.1,54.8,81.2c-1.4-3-3-4-6.3-4.1\n",
              "                    c-5.6-0.1-9.9,0.1-13.1,6.4c-3.8,7.6-13.6,10.2-21.8,7.6C5.2,88.4-0.4,80.5,0,71.7c0.1-8.4,5.7-15.8,13.8-18.2\n",
              "                    c8.4-2.6,17.5,0.7,22.3,8c1.3,1.9,1.3,5.2,3.6,5.6c3.9,0.6,8,0.2,12,0.2c1.8,0,1.9-1.6,2.4-2.8c3.5-7.8,9.7-11.8,18-11.9\n",
              "                    c8.2-0.1,14.4,3.9,17.8,11.4c1.3,2.8,2.9,3.6,5.7,3.3c1-0.1,2,0.1,3,0c2.8-0.5,6.4,1.7,8.1-2.7s-2.3-5.5-4.1-7.5\n",
              "                    c-5.1-5.7-10.9-10.8-16.1-16.3C84,38,81.9,37.1,78,38.3C66.7,42,56.2,35.7,53,24.1C50.3,14,57.3,2.8,67.7,0.5\n",
              "                    C78.4-2,89,4.7,91.5,15.3c0.1,0.3,0.1,0.5,0.2,0.8c0.7,3.4,0.7,6.9-0.8,9.8c-1.7,3.2-0.8,5,1.5,7.2c6.7,6.5,13.3,13,19.8,19.7\n",
              "                    c1.8,1.8,3,2.1,5.5,1.2c9.1-3.4,17.9-0.6,23.4,7c4.8,6.9,4.6,16.1-0.4,22.9c-5.4,7.2-14.2,9.9-23.1,6.5c-2.3-0.9-3.5-0.6-5.1,1.1\n",
              "                    c-6.7,6.9-13.6,13.7-20.5,20.4c-1.8,1.8-2.5,3.2-1.4,5.9c3.5,8.7,0.3,18.6-7.7,23.6c-7.9,5-18.2,3.8-24.8-2.9\n",
              "                    c-6.4-6.4-7.4-16.2-2.5-24.3c4.9-7.8,14.5-11,23.1-7.8c3,1.1,4.7,0.5,6.9-1.7C91.7,98.4,98,92.3,104.2,86c1.6-1.6,4.1-2.7,2.6-6.2\n",
              "                    c-1.4-3.3-3.8-2.5-6.2-2.6C99.8,77.2,98.9,77.2,97.3,77.2z M72.1,29.7c5.5,0.1,9.9-4.3,10-9.8c0-0.1,0-0.2,0-0.3\n",
              "                    C81.8,14,77,9.8,71.5,10.2c-5,0.3-9,4.2-9.3,9.2c-0.2,5.5,4,10.1,9.5,10.3C71.8,29.7,72,29.7,72.1,29.7z M72.3,62.3\n",
              "                    c-5.4-0.1-9.9,4.2-10.1,9.7c0,0.2,0,0.3,0,0.5c0.2,5.4,4.5,9.7,9.9,10c5.1,0.1,9.9-4.7,10.1-9.8c0.2-5.5-4-10-9.5-10.3\n",
              "                    C72.6,62.3,72.4,62.3,72.3,62.3z M115,72.5c0.1,5.4,4.5,9.7,9.8,9.9c5.6-0.2,10-4.8,10-10.4c-0.2-5.4-4.6-9.7-10-9.7\n",
              "                    c-5.3-0.1-9.8,4.2-9.9,9.5C115,72.1,115,72.3,115,72.5z M19.5,62.3c-5.4,0.1-9.8,4.4-10,9.8c-0.1,5.1,5.2,10.4,10.2,10.3\n",
              "                    c5.6-0.2,10-4.9,9.8-10.5c-0.1-5.4-4.5-9.7-9.9-9.6C19.6,62.3,19.5,62.3,19.5,62.3z M71.8,134.6c5.9,0.2,10.3-3.9,10.4-9.6\n",
              "                    c0.5-5.5-3.6-10.4-9.1-10.8c-5.5-0.5-10.4,3.6-10.8,9.1c0,0.5,0,0.9,0,1.4c-0.2,5.3,4,9.8,9.3,10\n",
              "                    C71.6,134.6,71.7,134.6,71.8,134.6z\"/>\n",
              "            </g>\n",
              "        </svg>\n",
              "        <table>\n",
              "            <tr>\n",
              "                <td style=\"text-align: left\"><b>Python version:</b></td>\n",
              "                <td style=\"text-align: left\"><b>3.10.13</b></td>\n",
              "            </tr>\n",
              "            <tr>\n",
              "                <td style=\"text-align: left\"><b>Ray version:</b></td>\n",
              "                <td style=\"text-align: left\"><b> 2.4.0</b></td>\n",
              "            </tr>\n",
              "            <tr>\n",
              "                <td style=\"text-align: left\"><b>Vertex SDK version:</b></td>\n",
              "                <td style=\"text-align: left\"><b> 1.39.0</b></td>\n",
              "            </tr>\n",
              "            <tr>\n",
              "                <td style=\"text-align: left\"><b>Dashboard:</b></td>\n",
              "                <td style=\"text-align: left\"><b><a href=\"https://c1068d42e788a11d-dot-us-central1.aiplatform-training.googleusercontent.com\" target=\"_blank\">c1068d42e788a11d-dot-us-central1.aiplatform-training.googleusercontent.com</a></b></td>\n",
              "            </tr>\n",
              "            <tr>\n",
              "    <td style=\"text-align: left\"><b>Interactive Terminal Uri:</b></td>\n",
              "    <td style=\"text-align: left\"><b><a href=\"https://e21427b331ff6335-dot-us-central1.aiplatform-training.googleusercontent.com\" target=\"_blank\">e21427b331ff6335-dot-us-central1.aiplatform-training.googleusercontent.com</a></b></td>\n",
              "</tr>\n",
              "            <tr>\n",
              "                <td style=\"text-align: left\"><b>Cluster Name:</b></td>\n",
              "                <td style=\"text-align: left\"><b> ray-kicking-tires</b></td>\n",
              "            </tr>\n",
              "        </table>\n",
              "    </div>\n",
              "</div>\n"
            ]
          },
          "metadata": {},
          "execution_count": 18
        }
      ]
    },
    {
      "cell_type": "code",
      "source": [
        "# Read CSV in GCS, transform irisand persist as Parquet to GCS\n",
        "\n",
        "from typing import Dict\n",
        "import numpy as np\n",
        "\n",
        "# Compute a \"petal area\" attribute.\n",
        "def fnTransformIrisBatch(batch: Dict[str, np.ndarray]) -> Dict[str, np.ndarray]:\n",
        "    vec_a = batch[\"PetalLengthCm\"]\n",
        "    vec_b = batch[\"PetalWidthCm\"]\n",
        "    batch[\"PetalAreaCm\"] = vec_a * vec_b\n",
        "    return batch\n",
        "\n",
        "# Remote function/task to transform Iris & persist to GCS\n",
        "@ray.remote\n",
        "def fntTransformAndPersistIris(path):\n",
        "    ds= ray.data.read_csv(paths=path)\n",
        "    transformed_ds = ds.map_batches(fnTransformIrisBatch)\n",
        "    transformed_ds.repartition(1).write_parquet(IRIS_DATA_PARQUET_TARGET_GCS_FQ_URI)\n",
        "    return transformed_ds.take(3)\n",
        "\n",
        "# Execute the function\n",
        "ray.get(fntTransformAndPersistIris.remote(IRIS_DATA_CSV_SRC_GCS_FQ_URI))"
      ],
      "metadata": {
        "id": "205o1dz8amO0",
        "executionInfo": {
          "status": "ok",
          "timestamp": 1711479859158,
          "user_tz": 300,
          "elapsed": 9050,
          "user": {
            "displayName": "",
            "userId": ""
          }
        },
        "colab": {
          "base_uri": "https://localhost:8080/"
        },
        "outputId": "82e39488-f27a-43b0-e6f5-7bd89df4886a"
      },
      "id": "205o1dz8amO0",
      "execution_count": null,
      "outputs": [
        {
          "output_type": "stream",
          "name": "stderr",
          "text": [
            "\u001b[2m\u001b[36m(fntTransformAndPersistIris pid=579, ip=10.126.0.5)\u001b[0m 2024-03-26 19:04:15,727\tWARNING read_api.py:358 -- ⚠️  The number of blocks in this dataset (1) limits its parallelism to 1 concurrent tasks. This is much less than the number of available CPU slots in the cluster. Use `.repartition(n)` to increase the number of dataset blocks.\n",
            "\u001b[2m\u001b[36m(fntTransformAndPersistIris pid=579, ip=10.126.0.5)\u001b[0m 2024-03-26 19:04:15,740\tINFO streaming_executor.py:83 -- Executing DAG InputDataBuffer[Input] -> TaskPoolMapOperator[ReadCSV->MapBatches(fnTransformIrisBatch)] -> AllToAllOperator[Repartition] -> TaskPoolMapOperator[Write]\n",
            "\u001b[2m\u001b[36m(fntTransformAndPersistIris pid=579, ip=10.126.0.5)\u001b[0m 2024-03-26 19:04:15,740\tINFO streaming_executor.py:84 -- Execution config: ExecutionOptions(resource_limits=ExecutionResources(cpu=None, gpu=None, object_store_memory=None), locality_with_output=False, preserve_order=False, actor_locality_enabled=True, verbose_progress=False)\n",
            "\u001b[2m\u001b[36m(fntTransformAndPersistIris pid=579, ip=10.126.0.5)\u001b[0m 2024-03-26 19:04:18,980\tINFO streaming_executor.py:83 -- Executing DAG InputDataBuffer[Input] -> TaskPoolMapOperator[ReadCSV->MapBatches(fnTransformIrisBatch)]\n",
            "\u001b[2m\u001b[36m(fntTransformAndPersistIris pid=579, ip=10.126.0.5)\u001b[0m 2024-03-26 19:04:18,981\tINFO streaming_executor.py:84 -- Execution config: ExecutionOptions(resource_limits=ExecutionResources(cpu=None, gpu=None, object_store_memory=None), locality_with_output=False, preserve_order=False, actor_locality_enabled=True, verbose_progress=False)\n"
          ]
        },
        {
          "output_type": "execute_result",
          "data": {
            "text/plain": [
              "[{'Id': 1,\n",
              "  'SepalLengthCm': 5.1,\n",
              "  'SepalWidthCm': 3.5,\n",
              "  'PetalLengthCm': 1.4,\n",
              "  'PetalWidthCm': 0.2,\n",
              "  'Species': 'Iris-setosa',\n",
              "  'PetalAreaCm': 0.27999999999999997},\n",
              " {'Id': 2,\n",
              "  'SepalLengthCm': 4.9,\n",
              "  'SepalWidthCm': 3.0,\n",
              "  'PetalLengthCm': 1.4,\n",
              "  'PetalWidthCm': 0.2,\n",
              "  'Species': 'Iris-setosa',\n",
              "  'PetalAreaCm': 0.27999999999999997},\n",
              " {'Id': 3,\n",
              "  'SepalLengthCm': 4.7,\n",
              "  'SepalWidthCm': 3.2,\n",
              "  'PetalLengthCm': 1.3,\n",
              "  'PetalWidthCm': 0.2,\n",
              "  'Species': 'Iris-setosa',\n",
              "  'PetalAreaCm': 0.26}]"
            ]
          },
          "metadata": {},
          "execution_count": 19
        }
      ]
    },
    {
      "cell_type": "code",
      "source": [
        "# Validate by reading Parquet from GCS, while doing so, lets filter for speciific columns and those with sepal length > 1 cm and print 3\n",
        "\n",
        "import pyarrow as pa\n",
        "irisFields = [(\"SepalLengthCm\", pa.float32()),\n",
        "          (\"SepalWidthCm\", pa.float32()),\n",
        "          (\"PetalLengthCm\", pa.float32()),\n",
        "          (\"PetalWidthCm\", pa.float32()),\n",
        "          (\"Species\", pa.string()),\n",
        "          (\"PetalAreaCm\", pa.float32())]\n",
        "\n",
        "@ray.remote\n",
        "def fntReadParquetAndDisplay(path):\n",
        "    ds= ray.data.read_parquet(paths=path,schema=pa.schema(irisFields),columns=[\"Species\", \"SepalLengthCm\"],filter=pa.dataset.field(\"SepalLengthCm\") > 1.0)\n",
        "    return ds.take(3)\n",
        "\n",
        "ray.get(fntReadParquetAndDisplay.remote(IRIS_DATA_PARQUET_TARGET_GCS_FQ_URI))"
      ],
      "metadata": {
        "id": "E33Q9W4ucg7Z",
        "executionInfo": {
          "status": "ok",
          "timestamp": 1711479860629,
          "user_tz": 300,
          "elapsed": 1474,
          "user": {
            "displayName": "",
            "userId": ""
          }
        },
        "colab": {
          "base_uri": "https://localhost:8080/"
        },
        "outputId": "28e8273f-52bd-4b70-a680-a06ee3e117b3"
      },
      "id": "E33Q9W4ucg7Z",
      "execution_count": null,
      "outputs": [
        {
          "output_type": "stream",
          "name": "stderr",
          "text": [
            "\u001b[2m\u001b[36m(_get_read_tasks pid=620, ip=10.126.0.5)\u001b[0m /opt/conda/lib/python3.10/site-packages/ray/data/datasource/parquet_datasource.py:238: FutureWarning: 'ParquetDataset.pieces' attribute is deprecated as of pyarrow 5.0.0 and will be removed in a future version. Use the '.fragments' attribute instead\n",
            "\u001b[2m\u001b[36m(_get_read_tasks pid=620, ip=10.126.0.5)\u001b[0m   pq_ds.pieces, **prefetch_remote_args\n",
            "\u001b[2m\u001b[36m(_get_read_tasks pid=620, ip=10.126.0.5)\u001b[0m /opt/conda/lib/python3.10/site-packages/ray/data/datasource/parquet_datasource.py:316: FutureWarning: 'ParquetDataset.pieces' attribute is deprecated as of pyarrow 5.0.0 and will be removed in a future version. Use the '.fragments' attribute instead\n",
            "\u001b[2m\u001b[36m(_get_read_tasks pid=620, ip=10.126.0.5)\u001b[0m   num_files = len(self._pq_ds.pieces)\n",
            "\u001b[2m\u001b[36m(_get_read_tasks pid=620, ip=10.126.0.5)\u001b[0m /opt/conda/lib/python3.10/site-packages/ray/data/datasource/parquet_datasource.py:329: FutureWarning: 'ParquetDataset.pieces' attribute is deprecated as of pyarrow 5.0.0 and will be removed in a future version. Use the '.fragments' attribute instead\n",
            "\u001b[2m\u001b[36m(_get_read_tasks pid=620, ip=10.126.0.5)\u001b[0m   self._pq_ds.pieces[idx]\n",
            "\u001b[2m\u001b[36m(fntReadParquetAndDisplay pid=579, ip=10.126.0.5)\u001b[0m 2024-03-26 19:04:20,282\tWARNING read_api.py:358 -- ⚠️  The number of blocks in this dataset (2) limits its parallelism to 2 concurrent tasks. This is much less than the number of available CPU slots in the cluster. Use `.repartition(n)` to increase the number of dataset blocks.\n",
            "\u001b[2m\u001b[36m(fntReadParquetAndDisplay pid=579, ip=10.126.0.5)\u001b[0m 2024-03-26 19:04:20,288\tINFO streaming_executor.py:83 -- Executing DAG InputDataBuffer[Input] -> TaskPoolMapOperator[DoRead]\n",
            "\u001b[2m\u001b[36m(fntReadParquetAndDisplay pid=579, ip=10.126.0.5)\u001b[0m 2024-03-26 19:04:20,289\tINFO streaming_executor.py:84 -- Execution config: ExecutionOptions(resource_limits=ExecutionResources(cpu=None, gpu=None, object_store_memory=None), locality_with_output=False, preserve_order=False, actor_locality_enabled=True, verbose_progress=False)\n",
            "\u001b[2m\u001b[36m(_get_read_tasks pid=620, ip=10.126.0.5)\u001b[0m /opt/conda/lib/python3.10/site-packages/ray/data/datasource/parquet_datasource.py:268: FutureWarning: 'ParquetDataset.pieces' attribute is deprecated as of pyarrow 5.0.0 and will be removed in a future version. Use the '.fragments' attribute instead\n",
            "\u001b[2m\u001b[36m(_get_read_tasks pid=620, ip=10.126.0.5)\u001b[0m   np.array_split(self._pq_ds.pieces, parallelism),\n"
          ]
        },
        {
          "output_type": "execute_result",
          "data": {
            "text/plain": [
              "[{'Species': 'Iris-setosa', 'SepalLengthCm': 5.099999904632568},\n",
              " {'Species': 'Iris-setosa', 'SepalLengthCm': 4.900000095367432},\n",
              " {'Species': 'Iris-setosa', 'SepalLengthCm': 4.699999809265137}]"
            ]
          },
          "metadata": {},
          "execution_count": 20
        }
      ]
    },
    {
      "cell_type": "markdown",
      "source": [
        "This concludes the module. Switch to lab guide for the [next module](https://github.com/anagha-google/ray-labs/blob/main/01-sklearn/module-03-ray.data-bq-primer-README.md)."
      ],
      "metadata": {
        "id": "Ngvrp_MMaSjd"
      },
      "id": "Ngvrp_MMaSjd"
    }
  ],
  "metadata": {
    "kernelspec": {
      "display_name": "Python 3",
      "language": "python",
      "name": "python3"
    },
    "language_info": {
      "codemirror_mode": {
        "name": "ipython",
        "version": 3
      },
      "file_extension": ".py",
      "mimetype": "text/x-python",
      "name": "python",
      "nbconvert_exporter": "python",
      "pygments_lexer": "ipython3",
      "version": "3.10.10"
    },
    "colab": {
      "provenance": []
    }
  },
  "nbformat": 4,
  "nbformat_minor": 5
}